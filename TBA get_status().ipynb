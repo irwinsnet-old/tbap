{
 "cells": [
  {
   "cell_type": "markdown",
   "metadata": {},
   "source": [
    "# Imports"
   ]
  },
  {
   "cell_type": "code",
   "execution_count": 1,
   "metadata": {
    "collapsed": true
   },
   "outputs": [],
   "source": [
    "import json\n",
    "import re\n",
    "import datetime\n",
    "from collections import OrderedDict\n",
    "\n",
    "import pandas as pd\n",
    "import pandas.io.json as pj\n",
    "from IPython.core.debugger import set_trace\n",
    "\n",
    "import tbap.api as api\n",
    "import tbap.server as server"
   ]
  },
  {
   "cell_type": "markdown",
   "metadata": {},
   "source": [
    "## Create Session"
   ]
  },
  {
   "cell_type": "code",
   "execution_count": 2,
   "metadata": {
    "collapsed": true
   },
   "outputs": [],
   "source": [
    "key = \"6Sx6a2gOyNWwNNTAd9UYBOpWp7MxaNrZgO4CqConwJwwDooKQV3DbZXvnk8TBL7A\"\n",
    "sn = api.Session(key)\n",
    "snj = api.Session(key, data_format=\"json\")"
   ]
  },
  {
   "cell_type": "markdown",
   "metadata": {
    "raw_mimetype": "text/markdown"
   },
   "source": [
    "### get_status()"
   ]
  },
  {
   "cell_type": "code",
   "execution_count": 3,
   "metadata": {
    "collapsed": true
   },
   "outputs": [],
   "source": [
    "status = api.get_status(sn)"
   ]
  },
  {
   "cell_type": "code",
   "execution_count": 4,
   "metadata": {},
   "outputs": [
    {
     "data": {
      "text/html": [
       "<div>\n",
       "<style>\n",
       "    .dataframe thead tr:only-child th {\n",
       "        text-align: right;\n",
       "    }\n",
       "\n",
       "    .dataframe thead th {\n",
       "        text-align: left;\n",
       "    }\n",
       "\n",
       "    .dataframe tbody tr th {\n",
       "        vertical-align: top;\n",
       "    }\n",
       "</style>\n",
       "<table border=\"1\" class=\"dataframe\">\n",
       "  <thead>\n",
       "    <tr style=\"text-align: right;\">\n",
       "      <th></th>\n",
       "      <th>value</th>\n",
       "    </tr>\n",
       "    <tr>\n",
       "      <th>label</th>\n",
       "      <th></th>\n",
       "    </tr>\n",
       "  </thead>\n",
       "  <tbody>\n",
       "    <tr>\n",
       "      <th>android_latest_app_version</th>\n",
       "      <td>4020399</td>\n",
       "    </tr>\n",
       "    <tr>\n",
       "      <th>android_min_app_version</th>\n",
       "      <td>-1</td>\n",
       "    </tr>\n",
       "    <tr>\n",
       "      <th>backup</th>\n",
       "      <td>None</td>\n",
       "    </tr>\n",
       "    <tr>\n",
       "      <th>contbuild_enabled</th>\n",
       "      <td>True</td>\n",
       "    </tr>\n",
       "    <tr>\n",
       "      <th>current_season</th>\n",
       "      <td>2017</td>\n",
       "    </tr>\n",
       "    <tr>\n",
       "      <th>down_events</th>\n",
       "      <td>None</td>\n",
       "    </tr>\n",
       "    <tr>\n",
       "      <th>ios_latest_app_version</th>\n",
       "      <td>-1</td>\n",
       "    </tr>\n",
       "    <tr>\n",
       "      <th>ios_min_app_version</th>\n",
       "      <td>-1</td>\n",
       "    </tr>\n",
       "    <tr>\n",
       "      <th>is_datafeed_down</th>\n",
       "      <td>False</td>\n",
       "    </tr>\n",
       "    <tr>\n",
       "      <th>max_season</th>\n",
       "      <td>2018</td>\n",
       "    </tr>\n",
       "  </tbody>\n",
       "</table>\n",
       "</div>"
      ],
      "text/plain": [
       "                              value\n",
       "label                              \n",
       "android_latest_app_version  4020399\n",
       "android_min_app_version          -1\n",
       "backup                         None\n",
       "contbuild_enabled              True\n",
       "current_season                 2017\n",
       "down_events                    None\n",
       "ios_latest_app_version           -1\n",
       "ios_min_app_version              -1\n",
       "is_datafeed_down              False\n",
       "max_season                     2018"
      ]
     },
     "execution_count": 4,
     "metadata": {},
     "output_type": "execute_result"
    }
   ],
   "source": [
    "status"
   ]
  },
  {
   "cell_type": "code",
   "execution_count": 5,
   "metadata": {},
   "outputs": [
    {
     "data": {
      "text/plain": [
       "{'Access-Control-Allow-Origin': '*',\n",
       " 'CF-Cache-Status': 'REVALIDATED',\n",
       " 'CF-RAY': '3bb96bb57ef079a3-SEA',\n",
       " 'Cache-Control': 'public, max-age=61',\n",
       " 'Connection': 'close',\n",
       " 'Content-Type': 'application/json; charset=\"utf-8\"',\n",
       " 'Date': 'Fri, 10 Nov 2017 13:39:56 GMT',\n",
       " 'ETag': 'W/\"0ec88266d3cdd6af204751efcc5e0d15\"',\n",
       " 'Last-Modified': 'Mon, 30 Oct 2017 22:33:00 GMT',\n",
       " 'Pragma': 'Public',\n",
       " 'Server': 'cloudflare-nginx',\n",
       " 'Set-Cookie': '__cfduid=d6fe53e0afd11f9d9264b06303e7674a31510321196; expires=Sat, 10-Nov-18 13:39:56 GMT; path=/; domain=.thebluealliance.com; HttpOnly',\n",
       " 'Transfer-Encoding': 'chunked',\n",
       " 'Vary': 'Accept-Encoding',\n",
       " 'X-Cloud-Trace-Context': 'e5c7cbfe8f9d2aa690b5c6a03a87b038',\n",
       " 'X-TBA-Version': '3',\n",
       " 'args': ['status'],\n",
       " 'code': 200,\n",
       " 'url': 'https://www.thebluealliance.com/api/v3/status'}"
      ]
     },
     "execution_count": 5,
     "metadata": {},
     "output_type": "execute_result"
    }
   ],
   "source": [
    "status.attr"
   ]
  },
  {
   "cell_type": "code",
   "execution_count": null,
   "metadata": {
    "collapsed": true
   },
   "outputs": [],
   "source": []
  }
 ],
 "metadata": {
  "kernelspec": {
   "display_name": "Python 3",
   "language": "python",
   "name": "python3"
  },
  "language_info": {
   "codemirror_mode": {
    "name": "ipython",
    "version": 3
   },
   "file_extension": ".py",
   "mimetype": "text/x-python",
   "name": "python",
   "nbconvert_exporter": "python",
   "pygments_lexer": "ipython3",
   "version": "3.6.2"
  }
 },
 "nbformat": 4,
 "nbformat_minor": 1
}
