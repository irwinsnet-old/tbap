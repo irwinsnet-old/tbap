{
 "cells": [
  {
   "cell_type": "markdown",
   "metadata": {},
   "source": [
    "## Setup"
   ]
  },
  {
   "cell_type": "code",
   "execution_count": 1,
   "metadata": {
    "collapsed": true
   },
   "outputs": [],
   "source": [
    "import json\n",
    "import re\n",
    "import datetime\n",
    "from collections import OrderedDict\n",
    "\n",
    "import pandas as pd\n",
    "import pandas.io.json as pj\n",
    "from IPython.core.debugger import set_trace\n",
    "\n",
    "import tbap.api as api\n",
    "import tbap.server as server"
   ]
  },
  {
   "cell_type": "code",
   "execution_count": 2,
   "metadata": {
    "collapsed": true
   },
   "outputs": [],
   "source": [
    "key = \"6Sx6a2gOyNWwNNTAd9UYBOpWp7MxaNrZgO4CqConwJwwDooKQV3DbZXvnk8TBL7A\"\n",
    "username = \"stacy.k.irwin@gmail.com\"\n",
    "sn = api.Session(username, key)\n",
    "snj = api.Session(username, key, data_format=\"json\")\n",
    "\n",
    "# Display floating point numbers in fixed format within dataframes.\n",
    "pd.options.display.float_format = '{:f}'.format"
   ]
  },
  {
   "cell_type": "markdown",
   "metadata": {},
   "source": [
    "### get_matches()"
   ]
  },
  {
   "cell_type": "code",
   "execution_count": 3,
   "metadata": {},
   "outputs": [],
   "source": [
    "sn.time_zone = \"America/Chicago\"\n",
    "matches = api.get_matches(sn, \"2017tur\")"
   ]
  },
  {
   "cell_type": "code",
   "execution_count": 9,
   "metadata": {},
   "outputs": [
    {
     "data": {
      "text/html": [
       "<div>\n",
       "<style>\n",
       "    .dataframe thead tr:only-child th {\n",
       "        text-align: right;\n",
       "    }\n",
       "\n",
       "    .dataframe thead th {\n",
       "        text-align: left;\n",
       "    }\n",
       "\n",
       "    .dataframe tbody tr th {\n",
       "        vertical-align: top;\n",
       "    }\n",
       "</style>\n",
       "<table border=\"1\" class=\"dataframe\">\n",
       "  <thead>\n",
       "    <tr style=\"text-align: right;\">\n",
       "      <th></th>\n",
       "      <th>team_key</th>\n",
       "      <th>alliance</th>\n",
       "      <th>surrogate</th>\n",
       "      <th>score</th>\n",
       "      <th>disqualified</th>\n",
       "      <th>actual_time</th>\n",
       "      <th>comp_level</th>\n",
       "      <th>event_key</th>\n",
       "      <th>key</th>\n",
       "      <th>match_number</th>\n",
       "      <th>...</th>\n",
       "      <th>teleopFuelHigh</th>\n",
       "      <th>teleopFuelLow</th>\n",
       "      <th>teleopFuelPoints</th>\n",
       "      <th>teleopPoints</th>\n",
       "      <th>teleopRotorPoints</th>\n",
       "      <th>teleopTakeoffPoints</th>\n",
       "      <th>totalPoints</th>\n",
       "      <th>touchpadFar</th>\n",
       "      <th>touchpadMiddle</th>\n",
       "      <th>touchpadNear</th>\n",
       "    </tr>\n",
       "  </thead>\n",
       "  <tbody>\n",
       "    <tr>\n",
       "      <th>0</th>\n",
       "      <td>frc2046</td>\n",
       "      <td>blue</td>\n",
       "      <td>False</td>\n",
       "      <td>503</td>\n",
       "      <td>False</td>\n",
       "      <td>2017-04-22 12:18:21-05:00</td>\n",
       "      <td>f</td>\n",
       "      <td>2017tur</td>\n",
       "      <td>2017tur_f1m1</td>\n",
       "      <td>1</td>\n",
       "      <td>...</td>\n",
       "      <td>63</td>\n",
       "      <td>0</td>\n",
       "      <td>21</td>\n",
       "      <td>391</td>\n",
       "      <td>120</td>\n",
       "      <td>150</td>\n",
       "      <td>503</td>\n",
       "      <td>ReadyForTakeoff</td>\n",
       "      <td>ReadyForTakeoff</td>\n",
       "      <td>ReadyForTakeoff</td>\n",
       "    </tr>\n",
       "    <tr>\n",
       "      <th>1</th>\n",
       "      <td>frc1318</td>\n",
       "      <td>blue</td>\n",
       "      <td>False</td>\n",
       "      <td>503</td>\n",
       "      <td>False</td>\n",
       "      <td>2017-04-22 12:18:21-05:00</td>\n",
       "      <td>f</td>\n",
       "      <td>2017tur</td>\n",
       "      <td>2017tur_f1m1</td>\n",
       "      <td>1</td>\n",
       "      <td>...</td>\n",
       "      <td>63</td>\n",
       "      <td>0</td>\n",
       "      <td>21</td>\n",
       "      <td>391</td>\n",
       "      <td>120</td>\n",
       "      <td>150</td>\n",
       "      <td>503</td>\n",
       "      <td>ReadyForTakeoff</td>\n",
       "      <td>ReadyForTakeoff</td>\n",
       "      <td>ReadyForTakeoff</td>\n",
       "    </tr>\n",
       "    <tr>\n",
       "      <th>2</th>\n",
       "      <td>frc1595</td>\n",
       "      <td>blue</td>\n",
       "      <td>False</td>\n",
       "      <td>503</td>\n",
       "      <td>False</td>\n",
       "      <td>2017-04-22 12:18:21-05:00</td>\n",
       "      <td>f</td>\n",
       "      <td>2017tur</td>\n",
       "      <td>2017tur_f1m1</td>\n",
       "      <td>1</td>\n",
       "      <td>...</td>\n",
       "      <td>63</td>\n",
       "      <td>0</td>\n",
       "      <td>21</td>\n",
       "      <td>391</td>\n",
       "      <td>120</td>\n",
       "      <td>150</td>\n",
       "      <td>503</td>\n",
       "      <td>ReadyForTakeoff</td>\n",
       "      <td>ReadyForTakeoff</td>\n",
       "      <td>ReadyForTakeoff</td>\n",
       "    </tr>\n",
       "    <tr>\n",
       "      <th>3</th>\n",
       "      <td>frc1296</td>\n",
       "      <td>red</td>\n",
       "      <td>False</td>\n",
       "      <td>271</td>\n",
       "      <td>False</td>\n",
       "      <td>2017-04-22 12:18:21-05:00</td>\n",
       "      <td>f</td>\n",
       "      <td>2017tur</td>\n",
       "      <td>2017tur_f1m1</td>\n",
       "      <td>1</td>\n",
       "      <td>...</td>\n",
       "      <td>17</td>\n",
       "      <td>0</td>\n",
       "      <td>5</td>\n",
       "      <td>185</td>\n",
       "      <td>80</td>\n",
       "      <td>100</td>\n",
       "      <td>271</td>\n",
       "      <td>ReadyForTakeoff</td>\n",
       "      <td>ReadyForTakeoff</td>\n",
       "      <td>None</td>\n",
       "    </tr>\n",
       "    <tr>\n",
       "      <th>4</th>\n",
       "      <td>frc2473</td>\n",
       "      <td>red</td>\n",
       "      <td>False</td>\n",
       "      <td>271</td>\n",
       "      <td>False</td>\n",
       "      <td>2017-04-22 12:18:21-05:00</td>\n",
       "      <td>f</td>\n",
       "      <td>2017tur</td>\n",
       "      <td>2017tur_f1m1</td>\n",
       "      <td>1</td>\n",
       "      <td>...</td>\n",
       "      <td>17</td>\n",
       "      <td>0</td>\n",
       "      <td>5</td>\n",
       "      <td>185</td>\n",
       "      <td>80</td>\n",
       "      <td>100</td>\n",
       "      <td>271</td>\n",
       "      <td>ReadyForTakeoff</td>\n",
       "      <td>ReadyForTakeoff</td>\n",
       "      <td>None</td>\n",
       "    </tr>\n",
       "  </tbody>\n",
       "</table>\n",
       "<p>5 rows × 49 columns</p>\n",
       "</div>"
      ],
      "text/plain": [
       "  team_key alliance  surrogate  score  disqualified               actual_time  \\\n",
       "0  frc2046     blue      False    503         False 2017-04-22 12:18:21-05:00   \n",
       "1  frc1318     blue      False    503         False 2017-04-22 12:18:21-05:00   \n",
       "2  frc1595     blue      False    503         False 2017-04-22 12:18:21-05:00   \n",
       "3  frc1296      red      False    271         False 2017-04-22 12:18:21-05:00   \n",
       "4  frc2473      red      False    271         False 2017-04-22 12:18:21-05:00   \n",
       "\n",
       "  comp_level event_key           key  match_number       ...         \\\n",
       "0          f   2017tur  2017tur_f1m1             1       ...          \n",
       "1          f   2017tur  2017tur_f1m1             1       ...          \n",
       "2          f   2017tur  2017tur_f1m1             1       ...          \n",
       "3          f   2017tur  2017tur_f1m1             1       ...          \n",
       "4          f   2017tur  2017tur_f1m1             1       ...          \n",
       "\n",
       "  teleopFuelHigh teleopFuelLow  teleopFuelPoints teleopPoints  \\\n",
       "0             63             0                21          391   \n",
       "1             63             0                21          391   \n",
       "2             63             0                21          391   \n",
       "3             17             0                 5          185   \n",
       "4             17             0                 5          185   \n",
       "\n",
       "  teleopRotorPoints  teleopTakeoffPoints  totalPoints      touchpadFar  \\\n",
       "0               120                  150          503  ReadyForTakeoff   \n",
       "1               120                  150          503  ReadyForTakeoff   \n",
       "2               120                  150          503  ReadyForTakeoff   \n",
       "3                80                  100          271  ReadyForTakeoff   \n",
       "4                80                  100          271  ReadyForTakeoff   \n",
       "\n",
       "    touchpadMiddle     touchpadNear  \n",
       "0  ReadyForTakeoff  ReadyForTakeoff  \n",
       "1  ReadyForTakeoff  ReadyForTakeoff  \n",
       "2  ReadyForTakeoff  ReadyForTakeoff  \n",
       "3  ReadyForTakeoff             None  \n",
       "4  ReadyForTakeoff             None  \n",
       "\n",
       "[5 rows x 49 columns]"
      ]
     },
     "execution_count": 9,
     "metadata": {},
     "output_type": "execute_result"
    }
   ],
   "source": [
    "matches.head()"
   ]
  },
  {
   "cell_type": "code",
   "execution_count": 10,
   "metadata": {},
   "outputs": [
    {
     "data": {
      "text/plain": [
       "(770, 49)"
      ]
     },
     "execution_count": 10,
     "metadata": {},
     "output_type": "execute_result"
    }
   ],
   "source": [
    "matches.shape"
   ]
  },
  {
   "cell_type": "code",
   "execution_count": 11,
   "metadata": {
    "collapsed": true
   },
   "outputs": [],
   "source": [
    "matches = api.get_matches(sn, \"2017tur\", response=\"simple\")"
   ]
  },
  {
   "cell_type": "code",
   "execution_count": 29,
   "metadata": {},
   "outputs": [
    {
     "data": {
      "text/plain": [
       "68400"
      ]
     },
     "execution_count": 29,
     "metadata": {},
     "output_type": "execute_result"
    }
   ],
   "source": [
    "matches.time[0].utcoffset().seconds"
   ]
  },
  {
   "cell_type": "code",
   "execution_count": 13,
   "metadata": {},
   "outputs": [
    {
     "data": {
      "text/plain": [
       "(770, 14)"
      ]
     },
     "execution_count": 13,
     "metadata": {},
     "output_type": "execute_result"
    }
   ],
   "source": [
    "matches.shape"
   ]
  },
  {
   "cell_type": "code",
   "execution_count": null,
   "metadata": {
    "collapsed": true
   },
   "outputs": [],
   "source": [
    "matches = api.get_matches(sn, \"2017tur\", response=\"keys\")"
   ]
  },
  {
   "cell_type": "code",
   "execution_count": null,
   "metadata": {},
   "outputs": [],
   "source": [
    "matches.head()"
   ]
  },
  {
   "cell_type": "code",
   "execution_count": null,
   "metadata": {
    "collapsed": true
   },
   "outputs": [],
   "source": [
    "matches = api.get_matches(sn, \"2017tur\", \"frc1318\")"
   ]
  },
  {
   "cell_type": "code",
   "execution_count": null,
   "metadata": {},
   "outputs": [],
   "source": [
    "matches.head()"
   ]
  },
  {
   "cell_type": "code",
   "execution_count": null,
   "metadata": {
    "collapsed": true
   },
   "outputs": [],
   "source": [
    "matches = api.get_matches(sn, \"2017tur\", \"frc1318\", response=\"simple\")"
   ]
  },
  {
   "cell_type": "code",
   "execution_count": null,
   "metadata": {},
   "outputs": [],
   "source": [
    "matches[50:55]"
   ]
  },
  {
   "cell_type": "code",
   "execution_count": null,
   "metadata": {},
   "outputs": [],
   "source": [
    "matches.shape"
   ]
  },
  {
   "cell_type": "code",
   "execution_count": null,
   "metadata": {
    "collapsed": true
   },
   "outputs": [],
   "source": [
    "matches = api.get_matches(sn, \"2017tur\", \"frc1318\", response=\"keys\")"
   ]
  },
  {
   "cell_type": "code",
   "execution_count": null,
   "metadata": {},
   "outputs": [],
   "source": [
    "matches.head()"
   ]
  },
  {
   "cell_type": "code",
   "execution_count": null,
   "metadata": {
    "collapsed": true
   },
   "outputs": [],
   "source": [
    "matches = api.get_matches(sn, team=\"frc1318\", year=2017)"
   ]
  },
  {
   "cell_type": "code",
   "execution_count": null,
   "metadata": {},
   "outputs": [],
   "source": [
    "matches.query(\"score == -1\")"
   ]
  },
  {
   "cell_type": "code",
   "execution_count": null,
   "metadata": {},
   "outputs": [],
   "source": [
    "matches.tail(6)"
   ]
  },
  {
   "cell_type": "code",
   "execution_count": null,
   "metadata": {},
   "outputs": [],
   "source": [
    "matches.shape"
   ]
  },
  {
   "cell_type": "code",
   "execution_count": null,
   "metadata": {
    "collapsed": true
   },
   "outputs": [],
   "source": [
    "matches = api.get_matches(sn, team=\"frc1318\", year=2017, response=\"simple\")"
   ]
  },
  {
   "cell_type": "code",
   "execution_count": null,
   "metadata": {},
   "outputs": [],
   "source": [
    "matches.head()"
   ]
  },
  {
   "cell_type": "code",
   "execution_count": null,
   "metadata": {
    "collapsed": true
   },
   "outputs": [],
   "source": [
    "matches = api.get_matches(sn, team=\"frc1318\", year=2017, response=\"keys\")"
   ]
  },
  {
   "cell_type": "code",
   "execution_count": null,
   "metadata": {},
   "outputs": [],
   "source": [
    "matches.head()"
   ]
  },
  {
   "cell_type": "code",
   "execution_count": null,
   "metadata": {
    "collapsed": true
   },
   "outputs": [],
   "source": [
    "matches = api.get_matches(sn, match=\"2017wasno_qm79\")"
   ]
  },
  {
   "cell_type": "code",
   "execution_count": null,
   "metadata": {},
   "outputs": [],
   "source": [
    "matches"
   ]
  },
  {
   "cell_type": "code",
   "execution_count": null,
   "metadata": {},
   "outputs": [],
   "source": [
    "matches.shape"
   ]
  },
  {
   "cell_type": "code",
   "execution_count": null,
   "metadata": {
    "collapsed": true
   },
   "outputs": [],
   "source": [
    "matches = api.get_matches(sn, match=\"2017wasno_qm79\", response=\"simple\")"
   ]
  },
  {
   "cell_type": "code",
   "execution_count": null,
   "metadata": {},
   "outputs": [],
   "source": [
    "matches"
   ]
  },
  {
   "cell_type": "code",
   "execution_count": null,
   "metadata": {
    "collapsed": true
   },
   "outputs": [],
   "source": [
    "import pytz"
   ]
  },
  {
   "cell_type": "code",
   "execution_count": null,
   "metadata": {},
   "outputs": [],
   "source": [
    "type(pytz.timezone(\"America/Chicago\")).__bases__"
   ]
  },
  {
   "cell_type": "code",
   "execution_count": null,
   "metadata": {},
   "outputs": [],
   "source": [
    "datetime.datetime.now(dateutil.tz.tzlocal()).tzname()"
   ]
  },
  {
   "cell_type": "code",
   "execution_count": null,
   "metadata": {},
   "outputs": [],
   "source": [
    "matches.time.dt.tz_localize(\"UTC\").dt.tz_convert(\"America/Sitka\")"
   ]
  },
  {
   "cell_type": "code",
   "execution_count": 4,
   "metadata": {
    "collapsed": true
   },
   "outputs": [],
   "source": [
    "import pytz\n",
    "import dateutil\n",
    "import datetime\n",
    "import dateutil.tz"
   ]
  },
  {
   "cell_type": "code",
   "execution_count": 9,
   "metadata": {},
   "outputs": [
    {
     "data": {
      "text/plain": [
       "'America/Los_Angeles'"
      ]
     },
     "execution_count": 9,
     "metadata": {},
     "output_type": "execute_result"
    }
   ],
   "source": [
    "tz = pytz.timezone(\"America/Los_Angeles\")\n",
    "str(tz)"
   ]
  },
  {
   "cell_type": "code",
   "execution_count": null,
   "metadata": {},
   "outputs": [],
   "source": [
    "tm.tzname()"
   ]
  },
  {
   "cell_type": "code",
   "execution_count": null,
   "metadata": {
    "collapsed": true
   },
   "outputs": [],
   "source": []
  }
 ],
 "metadata": {
  "celltoolbar": "Raw Cell Format",
  "kernelspec": {
   "display_name": "Python 3",
   "language": "python",
   "name": "python3"
  },
  "language_info": {
   "codemirror_mode": {
    "name": "ipython",
    "version": 3
   },
   "file_extension": ".py",
   "mimetype": "text/x-python",
   "name": "python",
   "nbconvert_exporter": "python",
   "pygments_lexer": "ipython3",
   "version": "3.6.2"
  }
 },
 "nbformat": 4,
 "nbformat_minor": 1
}
