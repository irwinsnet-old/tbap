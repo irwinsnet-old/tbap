{
 "cells": [
  {
   "cell_type": "markdown",
   "metadata": {},
   "source": [
    "# Imports"
   ]
  },
  {
   "cell_type": "code",
   "execution_count": 1,
   "metadata": {
    "collapsed": true
   },
   "outputs": [],
   "source": [
    "import json\n",
    "import re\n",
    "import datetime\n",
    "from collections import OrderedDict\n",
    "\n",
    "import pandas as pd\n",
    "import pandas.io.json as pj\n",
    "from IPython.core.debugger import set_trace\n",
    "\n",
    "import tbap.api as api\n",
    "import tbap.server as server"
   ]
  },
  {
   "cell_type": "code",
   "execution_count": 2,
   "metadata": {
    "collapsed": true
   },
   "outputs": [],
   "source": [
    "username = \"stacy.k.irwin@gmail.com\"\n",
    "key = \"6Sx6a2gOyNWwNNTAd9UYBOpWp7MxaNrZgO4CqConwJwwDooKQV3DbZXvnk8TBL7A\"\n",
    "sn = api.Session(username, key)\n",
    "snj = api.Session(username, key, data_format=\"json\")"
   ]
  },
  {
   "cell_type": "markdown",
   "metadata": {
    "raw_mimetype": "text/markdown"
   },
   "source": [
    "### get_districts()"
   ]
  },
  {
   "cell_type": "code",
   "execution_count": 3,
   "metadata": {},
   "outputs": [],
   "source": [
    "districts = api.get_districts(sn, year=2017)"
   ]
  },
  {
   "cell_type": "code",
   "execution_count": 4,
   "metadata": {},
   "outputs": [
    {
     "data": {
      "text/html": [
       "<div>\n",
       "<style>\n",
       "    .dataframe thead tr:only-child th {\n",
       "        text-align: right;\n",
       "    }\n",
       "\n",
       "    .dataframe thead th {\n",
       "        text-align: left;\n",
       "    }\n",
       "\n",
       "    .dataframe tbody tr th {\n",
       "        vertical-align: top;\n",
       "    }\n",
       "</style>\n",
       "<table border=\"1\" class=\"dataframe\">\n",
       "  <thead>\n",
       "    <tr style=\"text-align: right;\">\n",
       "      <th></th>\n",
       "      <th>abbreviation</th>\n",
       "      <th>display_name</th>\n",
       "      <th>key</th>\n",
       "      <th>year</th>\n",
       "    </tr>\n",
       "  </thead>\n",
       "  <tbody>\n",
       "    <tr>\n",
       "      <th>0</th>\n",
       "      <td>chs</td>\n",
       "      <td>Chesapeake</td>\n",
       "      <td>2017chs</td>\n",
       "      <td>2017</td>\n",
       "    </tr>\n",
       "    <tr>\n",
       "      <th>1</th>\n",
       "      <td>fim</td>\n",
       "      <td>Michigan</td>\n",
       "      <td>2017fim</td>\n",
       "      <td>2017</td>\n",
       "    </tr>\n",
       "    <tr>\n",
       "      <th>2</th>\n",
       "      <td>in</td>\n",
       "      <td>Indiana</td>\n",
       "      <td>2017in</td>\n",
       "      <td>2017</td>\n",
       "    </tr>\n",
       "    <tr>\n",
       "      <th>3</th>\n",
       "      <td>isr</td>\n",
       "      <td>Israel</td>\n",
       "      <td>2017isr</td>\n",
       "      <td>2017</td>\n",
       "    </tr>\n",
       "    <tr>\n",
       "      <th>4</th>\n",
       "      <td>mar</td>\n",
       "      <td>Mid-Atlantic</td>\n",
       "      <td>2017mar</td>\n",
       "      <td>2017</td>\n",
       "    </tr>\n",
       "    <tr>\n",
       "      <th>5</th>\n",
       "      <td>nc</td>\n",
       "      <td>North Carolina</td>\n",
       "      <td>2017nc</td>\n",
       "      <td>2017</td>\n",
       "    </tr>\n",
       "    <tr>\n",
       "      <th>6</th>\n",
       "      <td>ne</td>\n",
       "      <td>New England</td>\n",
       "      <td>2017ne</td>\n",
       "      <td>2017</td>\n",
       "    </tr>\n",
       "    <tr>\n",
       "      <th>7</th>\n",
       "      <td>ont</td>\n",
       "      <td>Ontario</td>\n",
       "      <td>2017ont</td>\n",
       "      <td>2017</td>\n",
       "    </tr>\n",
       "    <tr>\n",
       "      <th>8</th>\n",
       "      <td>pch</td>\n",
       "      <td>Peachtree</td>\n",
       "      <td>2017pch</td>\n",
       "      <td>2017</td>\n",
       "    </tr>\n",
       "    <tr>\n",
       "      <th>9</th>\n",
       "      <td>pnw</td>\n",
       "      <td>Pacific Northwest</td>\n",
       "      <td>2017pnw</td>\n",
       "      <td>2017</td>\n",
       "    </tr>\n",
       "  </tbody>\n",
       "</table>\n",
       "</div>"
      ],
      "text/plain": [
       "  abbreviation       display_name      key  year\n",
       "0          chs         Chesapeake  2017chs  2017\n",
       "1          fim           Michigan  2017fim  2017\n",
       "2           in            Indiana   2017in  2017\n",
       "3          isr             Israel  2017isr  2017\n",
       "4          mar       Mid-Atlantic  2017mar  2017\n",
       "5           nc     North Carolina   2017nc  2017\n",
       "6           ne        New England   2017ne  2017\n",
       "7          ont            Ontario  2017ont  2017\n",
       "8          pch          Peachtree  2017pch  2017\n",
       "9          pnw  Pacific Northwest  2017pnw  2017"
      ]
     },
     "execution_count": 4,
     "metadata": {},
     "output_type": "execute_result"
    }
   ],
   "source": [
    "districts"
   ]
  },
  {
   "cell_type": "code",
   "execution_count": 5,
   "metadata": {
    "collapsed": true
   },
   "outputs": [],
   "source": [
    "districts = api.get_districts(sn, team=\"frc1318\")"
   ]
  },
  {
   "cell_type": "code",
   "execution_count": 6,
   "metadata": {},
   "outputs": [
    {
     "data": {
      "text/html": [
       "<div>\n",
       "<style>\n",
       "    .dataframe thead tr:only-child th {\n",
       "        text-align: right;\n",
       "    }\n",
       "\n",
       "    .dataframe thead th {\n",
       "        text-align: left;\n",
       "    }\n",
       "\n",
       "    .dataframe tbody tr th {\n",
       "        vertical-align: top;\n",
       "    }\n",
       "</style>\n",
       "<table border=\"1\" class=\"dataframe\">\n",
       "  <thead>\n",
       "    <tr style=\"text-align: right;\">\n",
       "      <th></th>\n",
       "      <th>abbreviation</th>\n",
       "      <th>display_name</th>\n",
       "      <th>key</th>\n",
       "      <th>year</th>\n",
       "    </tr>\n",
       "  </thead>\n",
       "  <tbody>\n",
       "    <tr>\n",
       "      <th>0</th>\n",
       "      <td>pnw</td>\n",
       "      <td>Pacific Northwest</td>\n",
       "      <td>2014pnw</td>\n",
       "      <td>2014</td>\n",
       "    </tr>\n",
       "    <tr>\n",
       "      <th>1</th>\n",
       "      <td>pnw</td>\n",
       "      <td>Pacific Northwest</td>\n",
       "      <td>2015pnw</td>\n",
       "      <td>2015</td>\n",
       "    </tr>\n",
       "    <tr>\n",
       "      <th>2</th>\n",
       "      <td>pnw</td>\n",
       "      <td>Pacific Northwest</td>\n",
       "      <td>2016pnw</td>\n",
       "      <td>2016</td>\n",
       "    </tr>\n",
       "    <tr>\n",
       "      <th>3</th>\n",
       "      <td>pnw</td>\n",
       "      <td>Pacific Northwest</td>\n",
       "      <td>2017pnw</td>\n",
       "      <td>2017</td>\n",
       "    </tr>\n",
       "    <tr>\n",
       "      <th>4</th>\n",
       "      <td>pnw</td>\n",
       "      <td>Pacific Northwest</td>\n",
       "      <td>2018pnw</td>\n",
       "      <td>2018</td>\n",
       "    </tr>\n",
       "  </tbody>\n",
       "</table>\n",
       "</div>"
      ],
      "text/plain": [
       "  abbreviation       display_name      key  year\n",
       "0          pnw  Pacific Northwest  2014pnw  2014\n",
       "1          pnw  Pacific Northwest  2015pnw  2015\n",
       "2          pnw  Pacific Northwest  2016pnw  2016\n",
       "3          pnw  Pacific Northwest  2017pnw  2017\n",
       "4          pnw  Pacific Northwest  2018pnw  2018"
      ]
     },
     "execution_count": 6,
     "metadata": {},
     "output_type": "execute_result"
    }
   ],
   "source": [
    "districts"
   ]
  },
  {
   "cell_type": "code",
   "execution_count": 7,
   "metadata": {},
   "outputs": [],
   "source": [
    "lm = districts.attr[\"Last-Modified\"]"
   ]
  },
  {
   "cell_type": "code",
   "execution_count": 14,
   "metadata": {
    "collapsed": true
   },
   "outputs": [],
   "source": [
    "districts = api.get_districts(sn, team=\"frc1318\", mod_since=lm)"
   ]
  },
  {
   "cell_type": "code",
   "execution_count": 15,
   "metadata": {},
   "outputs": [
    {
     "data": {
      "text/html": [
       "<div>\n",
       "<style>\n",
       "    .dataframe thead tr:only-child th {\n",
       "        text-align: right;\n",
       "    }\n",
       "\n",
       "    .dataframe thead th {\n",
       "        text-align: left;\n",
       "    }\n",
       "\n",
       "    .dataframe tbody tr th {\n",
       "        vertical-align: top;\n",
       "    }\n",
       "</style>\n",
       "<table border=\"1\" class=\"dataframe\">\n",
       "  <thead>\n",
       "    <tr style=\"text-align: right;\">\n",
       "      <th></th>\n",
       "      <th>value</th>\n",
       "    </tr>\n",
       "    <tr>\n",
       "      <th>label</th>\n",
       "      <th></th>\n",
       "    </tr>\n",
       "  </thead>\n",
       "  <tbody>\n",
       "    <tr>\n",
       "      <th>code</th>\n",
       "      <td>304</td>\n",
       "    </tr>\n",
       "    <tr>\n",
       "      <th>Date</th>\n",
       "      <td>Mon, 13 Nov 2017 14:34:01 GMT</td>\n",
       "    </tr>\n",
       "    <tr>\n",
       "      <th>Connection</th>\n",
       "      <td>close</td>\n",
       "    </tr>\n",
       "    <tr>\n",
       "      <th>Set-Cookie</th>\n",
       "      <td>__cfduid=dd0e0f98d4fb0aecb9c1eacbae70b0b7a1510...</td>\n",
       "    </tr>\n",
       "    <tr>\n",
       "      <th>Access-Control-Allow-Origin</th>\n",
       "      <td>*</td>\n",
       "    </tr>\n",
       "    <tr>\n",
       "      <th>Cache-Control</th>\n",
       "      <td>public, max-age=61</td>\n",
       "    </tr>\n",
       "    <tr>\n",
       "      <th>Pragma</th>\n",
       "      <td>Public</td>\n",
       "    </tr>\n",
       "    <tr>\n",
       "      <th>ETag</th>\n",
       "      <td>W/\"f13331c9f7795df8263a2a41af610658\"</td>\n",
       "    </tr>\n",
       "    <tr>\n",
       "      <th>Last-Modified</th>\n",
       "      <td>Sun, 12 Nov 2017 14:14:56 GMT</td>\n",
       "    </tr>\n",
       "    <tr>\n",
       "      <th>X-TBA-Version</th>\n",
       "      <td>3</td>\n",
       "    </tr>\n",
       "    <tr>\n",
       "      <th>Vary</th>\n",
       "      <td>Accept-Encoding</td>\n",
       "    </tr>\n",
       "    <tr>\n",
       "      <th>X-Cloud-Trace-Context</th>\n",
       "      <td>462b55b74656795b66e019260a64199d</td>\n",
       "    </tr>\n",
       "    <tr>\n",
       "      <th>CF-Cache-Status</th>\n",
       "      <td>HIT</td>\n",
       "    </tr>\n",
       "    <tr>\n",
       "      <th>Server</th>\n",
       "      <td>cloudflare-nginx</td>\n",
       "    </tr>\n",
       "    <tr>\n",
       "      <th>CF-RAY</th>\n",
       "      <td>3bd273110fa41bc1-SEA</td>\n",
       "    </tr>\n",
       "    <tr>\n",
       "      <th>args_0</th>\n",
       "      <td>team</td>\n",
       "    </tr>\n",
       "    <tr>\n",
       "      <th>args_1</th>\n",
       "      <td>frc1318</td>\n",
       "    </tr>\n",
       "    <tr>\n",
       "      <th>args_2</th>\n",
       "      <td>districts</td>\n",
       "    </tr>\n",
       "    <tr>\n",
       "      <th>If-Modified-Since</th>\n",
       "      <td>Sun, 12 Nov 2017 14:14:56 GMT</td>\n",
       "    </tr>\n",
       "  </tbody>\n",
       "</table>\n",
       "</div>"
      ],
      "text/plain": [
       "                                                                         value\n",
       "label                                                                         \n",
       "code                                                                       304\n",
       "Date                                             Mon, 13 Nov 2017 14:34:01 GMT\n",
       "Connection                                                               close\n",
       "Set-Cookie                   __cfduid=dd0e0f98d4fb0aecb9c1eacbae70b0b7a1510...\n",
       "Access-Control-Allow-Origin                                                  *\n",
       "Cache-Control                                               public, max-age=61\n",
       "Pragma                                                                  Public\n",
       "ETag                                      W/\"f13331c9f7795df8263a2a41af610658\"\n",
       "Last-Modified                                    Sun, 12 Nov 2017 14:14:56 GMT\n",
       "X-TBA-Version                                                                3\n",
       "Vary                                                           Accept-Encoding\n",
       "X-Cloud-Trace-Context                         462b55b74656795b66e019260a64199d\n",
       "CF-Cache-Status                                                            HIT\n",
       "Server                                                        cloudflare-nginx\n",
       "CF-RAY                                                    3bd273110fa41bc1-SEA\n",
       "args_0                                                                    team\n",
       "args_1                                                                 frc1318\n",
       "args_2                                                               districts\n",
       "If-Modified-Since                                Sun, 12 Nov 2017 14:14:56 GMT"
      ]
     },
     "execution_count": 15,
     "metadata": {},
     "output_type": "execute_result"
    }
   ],
   "source": [
    "districts"
   ]
  },
  {
   "cell_type": "code",
   "execution_count": 16,
   "metadata": {},
   "outputs": [
    {
     "data": {
      "text/plain": [
       "{'Access-Control-Allow-Origin': '*',\n",
       " 'CF-Cache-Status': 'HIT',\n",
       " 'CF-RAY': '3bd273110fa41bc1-SEA',\n",
       " 'Cache-Control': 'public, max-age=61',\n",
       " 'Connection': 'close',\n",
       " 'Date': 'Mon, 13 Nov 2017 14:34:01 GMT',\n",
       " 'ETag': 'W/\"f13331c9f7795df8263a2a41af610658\"',\n",
       " 'If-Modified-Since': 'Sun, 12 Nov 2017 14:14:56 GMT',\n",
       " 'Last-Modified': 'Sun, 12 Nov 2017 14:14:56 GMT',\n",
       " 'Pragma': 'Public',\n",
       " 'Server': 'cloudflare-nginx',\n",
       " 'Set-Cookie': '__cfduid=dd0e0f98d4fb0aecb9c1eacbae70b0b7a1510583641; expires=Tue, 13-Nov-18 14:34:01 GMT; path=/; domain=.thebluealliance.com; HttpOnly',\n",
       " 'Vary': 'Accept-Encoding',\n",
       " 'X-Cloud-Trace-Context': '462b55b74656795b66e019260a64199d',\n",
       " 'X-TBA-Version': '3',\n",
       " 'args': ['team', 'frc1318', 'districts'],\n",
       " 'code': 304}"
      ]
     },
     "execution_count": 16,
     "metadata": {},
     "output_type": "execute_result"
    }
   ],
   "source": [
    "districts.attr"
   ]
  },
  {
   "cell_type": "code",
   "execution_count": 10,
   "metadata": {},
   "outputs": [
    {
     "data": {
      "text/plain": [
       "'Sun, 12 Nov 2017 14:14:56 GMT'"
      ]
     },
     "execution_count": 10,
     "metadata": {},
     "output_type": "execute_result"
    }
   ],
   "source": [
    "lm"
   ]
  },
  {
   "cell_type": "code",
   "execution_count": 11,
   "metadata": {
    "collapsed": true
   },
   "outputs": [],
   "source": [
    "lm1 = \"Sun, 12 Nov 2017 14:14:55 GMT\""
   ]
  },
  {
   "cell_type": "code",
   "execution_count": 12,
   "metadata": {
    "collapsed": true
   },
   "outputs": [],
   "source": [
    "districts = api.get_districts(sn, team=\"frc1318\", mod_since=lm1)"
   ]
  },
  {
   "cell_type": "code",
   "execution_count": 13,
   "metadata": {},
   "outputs": [
    {
     "data": {
      "text/html": [
       "<div>\n",
       "<style>\n",
       "    .dataframe thead tr:only-child th {\n",
       "        text-align: right;\n",
       "    }\n",
       "\n",
       "    .dataframe thead th {\n",
       "        text-align: left;\n",
       "    }\n",
       "\n",
       "    .dataframe tbody tr th {\n",
       "        vertical-align: top;\n",
       "    }\n",
       "</style>\n",
       "<table border=\"1\" class=\"dataframe\">\n",
       "  <thead>\n",
       "    <tr style=\"text-align: right;\">\n",
       "      <th></th>\n",
       "      <th>abbreviation</th>\n",
       "      <th>display_name</th>\n",
       "      <th>key</th>\n",
       "      <th>year</th>\n",
       "    </tr>\n",
       "  </thead>\n",
       "  <tbody>\n",
       "    <tr>\n",
       "      <th>0</th>\n",
       "      <td>pnw</td>\n",
       "      <td>Pacific Northwest</td>\n",
       "      <td>2014pnw</td>\n",
       "      <td>2014</td>\n",
       "    </tr>\n",
       "    <tr>\n",
       "      <th>1</th>\n",
       "      <td>pnw</td>\n",
       "      <td>Pacific Northwest</td>\n",
       "      <td>2015pnw</td>\n",
       "      <td>2015</td>\n",
       "    </tr>\n",
       "    <tr>\n",
       "      <th>2</th>\n",
       "      <td>pnw</td>\n",
       "      <td>Pacific Northwest</td>\n",
       "      <td>2016pnw</td>\n",
       "      <td>2016</td>\n",
       "    </tr>\n",
       "    <tr>\n",
       "      <th>3</th>\n",
       "      <td>pnw</td>\n",
       "      <td>Pacific Northwest</td>\n",
       "      <td>2017pnw</td>\n",
       "      <td>2017</td>\n",
       "    </tr>\n",
       "    <tr>\n",
       "      <th>4</th>\n",
       "      <td>pnw</td>\n",
       "      <td>Pacific Northwest</td>\n",
       "      <td>2018pnw</td>\n",
       "      <td>2018</td>\n",
       "    </tr>\n",
       "  </tbody>\n",
       "</table>\n",
       "</div>"
      ],
      "text/plain": [
       "  abbreviation       display_name      key  year\n",
       "0          pnw  Pacific Northwest  2014pnw  2014\n",
       "1          pnw  Pacific Northwest  2015pnw  2015\n",
       "2          pnw  Pacific Northwest  2016pnw  2016\n",
       "3          pnw  Pacific Northwest  2017pnw  2017\n",
       "4          pnw  Pacific Northwest  2018pnw  2018"
      ]
     },
     "execution_count": 13,
     "metadata": {},
     "output_type": "execute_result"
    }
   ],
   "source": [
    "districts"
   ]
  },
  {
   "cell_type": "code",
   "execution_count": null,
   "metadata": {
    "collapsed": true
   },
   "outputs": [],
   "source": []
  }
 ],
 "metadata": {
  "kernelspec": {
   "display_name": "Python 3",
   "language": "python",
   "name": "python3"
  },
  "language_info": {
   "codemirror_mode": {
    "name": "ipython",
    "version": 3
   },
   "file_extension": ".py",
   "mimetype": "text/x-python",
   "name": "python",
   "nbconvert_exporter": "python",
   "pygments_lexer": "ipython3",
   "version": "3.6.2"
  }
 },
 "nbformat": 4,
 "nbformat_minor": 1
}
