{
 "cells": [
  {
   "cell_type": "markdown",
   "metadata": {},
   "source": [
    "# Imports"
   ]
  },
  {
   "cell_type": "code",
   "execution_count": 1,
   "metadata": {},
   "outputs": [],
   "source": [
    "import json\n",
    "import re\n",
    "import datetime\n",
    "from collections import OrderedDict\n",
    "\n",
    "import pandas as pd\n",
    "import pandas.io.json as pj\n",
    "from IPython.core.debugger import set_trace\n",
    "\n",
    "import tbap.api as api\n",
    "import tbap.server as server\n",
    "\n",
    "import auth"
   ]
  },
  {
   "cell_type": "code",
   "execution_count": 2,
   "metadata": {},
   "outputs": [],
   "source": [
    "username = auth.username\n",
    "key = auth.key\n",
    "sn = api.Session(username, key)\n",
    "snj = api.Session(username, key, data_format=\"json\")"
   ]
  },
  {
   "cell_type": "markdown",
   "metadata": {
    "raw_mimetype": "text/markdown"
   },
   "source": [
    "### get_districts()"
   ]
  },
  {
   "cell_type": "code",
   "execution_count": 4,
   "metadata": {},
   "outputs": [],
   "source": [
    "districts = api.get_districts(sn, year=2019)"
   ]
  },
  {
   "cell_type": "code",
   "execution_count": 5,
   "metadata": {},
   "outputs": [
    {
     "data": {
      "text/html": [
       "<div>\n",
       "<style scoped>\n",
       "    .dataframe tbody tr th:only-of-type {\n",
       "        vertical-align: middle;\n",
       "    }\n",
       "\n",
       "    .dataframe tbody tr th {\n",
       "        vertical-align: top;\n",
       "    }\n",
       "\n",
       "    .dataframe thead th {\n",
       "        text-align: right;\n",
       "    }\n",
       "</style>\n",
       "<table border=\"1\" class=\"dataframe\">\n",
       "  <thead>\n",
       "    <tr style=\"text-align: right;\">\n",
       "      <th></th>\n",
       "      <th>abbreviation</th>\n",
       "      <th>display_name</th>\n",
       "      <th>year</th>\n",
       "    </tr>\n",
       "    <tr>\n",
       "      <th>key</th>\n",
       "      <th></th>\n",
       "      <th></th>\n",
       "      <th></th>\n",
       "    </tr>\n",
       "  </thead>\n",
       "  <tbody>\n",
       "    <tr>\n",
       "      <th>2019chs</th>\n",
       "      <td>chs</td>\n",
       "      <td>FIRST Chesapeake</td>\n",
       "      <td>2019</td>\n",
       "    </tr>\n",
       "    <tr>\n",
       "      <th>2019fim</th>\n",
       "      <td>fim</td>\n",
       "      <td>FIRST In Michigan</td>\n",
       "      <td>2019</td>\n",
       "    </tr>\n",
       "    <tr>\n",
       "      <th>2019fma</th>\n",
       "      <td>fma</td>\n",
       "      <td>FIRST Mid-Atlantic</td>\n",
       "      <td>2019</td>\n",
       "    </tr>\n",
       "    <tr>\n",
       "      <th>2019fnc</th>\n",
       "      <td>fnc</td>\n",
       "      <td>FIRST North Carolina</td>\n",
       "      <td>2019</td>\n",
       "    </tr>\n",
       "    <tr>\n",
       "      <th>2019in</th>\n",
       "      <td>in</td>\n",
       "      <td>Indiana FIRST</td>\n",
       "      <td>2019</td>\n",
       "    </tr>\n",
       "    <tr>\n",
       "      <th>2019isr</th>\n",
       "      <td>isr</td>\n",
       "      <td>FIRST Israel</td>\n",
       "      <td>2019</td>\n",
       "    </tr>\n",
       "    <tr>\n",
       "      <th>2019ne</th>\n",
       "      <td>ne</td>\n",
       "      <td>New England</td>\n",
       "      <td>2019</td>\n",
       "    </tr>\n",
       "    <tr>\n",
       "      <th>2019ont</th>\n",
       "      <td>ont</td>\n",
       "      <td>Ontario</td>\n",
       "      <td>2019</td>\n",
       "    </tr>\n",
       "    <tr>\n",
       "      <th>2019pch</th>\n",
       "      <td>pch</td>\n",
       "      <td>Peachtree</td>\n",
       "      <td>2019</td>\n",
       "    </tr>\n",
       "    <tr>\n",
       "      <th>2019pnw</th>\n",
       "      <td>pnw</td>\n",
       "      <td>Pacific Northwest</td>\n",
       "      <td>2019</td>\n",
       "    </tr>\n",
       "    <tr>\n",
       "      <th>2019tx</th>\n",
       "      <td>tx</td>\n",
       "      <td>FIRST In Texas</td>\n",
       "      <td>2019</td>\n",
       "    </tr>\n",
       "  </tbody>\n",
       "</table>\n",
       "</div>"
      ],
      "text/plain": [
       "        abbreviation          display_name  year\n",
       "key                                             \n",
       "2019chs          chs      FIRST Chesapeake  2019\n",
       "2019fim          fim     FIRST In Michigan  2019\n",
       "2019fma          fma    FIRST Mid-Atlantic  2019\n",
       "2019fnc          fnc  FIRST North Carolina  2019\n",
       "2019in            in         Indiana FIRST  2019\n",
       "2019isr          isr          FIRST Israel  2019\n",
       "2019ne            ne           New England  2019\n",
       "2019ont          ont               Ontario  2019\n",
       "2019pch          pch             Peachtree  2019\n",
       "2019pnw          pnw     Pacific Northwest  2019\n",
       "2019tx            tx        FIRST In Texas  2019"
      ]
     },
     "execution_count": 5,
     "metadata": {},
     "output_type": "execute_result"
    }
   ],
   "source": [
    "districts"
   ]
  },
  {
   "cell_type": "code",
   "execution_count": 6,
   "metadata": {},
   "outputs": [
    {
     "data": {
      "text/plain": [
       "(11, 3)"
      ]
     },
     "execution_count": 6,
     "metadata": {},
     "output_type": "execute_result"
    }
   ],
   "source": [
    "districts.shape"
   ]
  },
  {
   "cell_type": "code",
   "execution_count": 7,
   "metadata": {},
   "outputs": [
    {
     "data": {
      "text/plain": [
       "Index(['2019chs', '2019fim', '2019fma', '2019fnc', '2019in', '2019isr',\n",
       "       '2019ne', '2019ont', '2019pch', '2019pnw', '2019tx'],\n",
       "      dtype='object', name='key')"
      ]
     },
     "execution_count": 7,
     "metadata": {},
     "output_type": "execute_result"
    }
   ],
   "source": [
    "districts.index"
   ]
  },
  {
   "cell_type": "code",
   "execution_count": 8,
   "metadata": {},
   "outputs": [],
   "source": [
    "districts = api.get_districts(sn, team=\"frc1318\")"
   ]
  },
  {
   "cell_type": "code",
   "execution_count": 9,
   "metadata": {},
   "outputs": [
    {
     "data": {
      "text/html": [
       "<div>\n",
       "<style scoped>\n",
       "    .dataframe tbody tr th:only-of-type {\n",
       "        vertical-align: middle;\n",
       "    }\n",
       "\n",
       "    .dataframe tbody tr th {\n",
       "        vertical-align: top;\n",
       "    }\n",
       "\n",
       "    .dataframe thead th {\n",
       "        text-align: right;\n",
       "    }\n",
       "</style>\n",
       "<table border=\"1\" class=\"dataframe\">\n",
       "  <thead>\n",
       "    <tr style=\"text-align: right;\">\n",
       "      <th></th>\n",
       "      <th>abbreviation</th>\n",
       "      <th>display_name</th>\n",
       "      <th>year</th>\n",
       "    </tr>\n",
       "    <tr>\n",
       "      <th>key</th>\n",
       "      <th></th>\n",
       "      <th></th>\n",
       "      <th></th>\n",
       "    </tr>\n",
       "  </thead>\n",
       "  <tbody>\n",
       "    <tr>\n",
       "      <th>2014pnw</th>\n",
       "      <td>pnw</td>\n",
       "      <td>Pacific Northwest</td>\n",
       "      <td>2014</td>\n",
       "    </tr>\n",
       "    <tr>\n",
       "      <th>2015pnw</th>\n",
       "      <td>pnw</td>\n",
       "      <td>Pacific Northwest</td>\n",
       "      <td>2015</td>\n",
       "    </tr>\n",
       "    <tr>\n",
       "      <th>2016pnw</th>\n",
       "      <td>pnw</td>\n",
       "      <td>Pacific Northwest</td>\n",
       "      <td>2016</td>\n",
       "    </tr>\n",
       "    <tr>\n",
       "      <th>2017pnw</th>\n",
       "      <td>pnw</td>\n",
       "      <td>Pacific Northwest</td>\n",
       "      <td>2017</td>\n",
       "    </tr>\n",
       "    <tr>\n",
       "      <th>2018pnw</th>\n",
       "      <td>pnw</td>\n",
       "      <td>Pacific Northwest</td>\n",
       "      <td>2018</td>\n",
       "    </tr>\n",
       "    <tr>\n",
       "      <th>2019pnw</th>\n",
       "      <td>pnw</td>\n",
       "      <td>Pacific Northwest</td>\n",
       "      <td>2019</td>\n",
       "    </tr>\n",
       "  </tbody>\n",
       "</table>\n",
       "</div>"
      ],
      "text/plain": [
       "        abbreviation       display_name  year\n",
       "key                                          \n",
       "2014pnw          pnw  Pacific Northwest  2014\n",
       "2015pnw          pnw  Pacific Northwest  2015\n",
       "2016pnw          pnw  Pacific Northwest  2016\n",
       "2017pnw          pnw  Pacific Northwest  2017\n",
       "2018pnw          pnw  Pacific Northwest  2018\n",
       "2019pnw          pnw  Pacific Northwest  2019"
      ]
     },
     "execution_count": 9,
     "metadata": {},
     "output_type": "execute_result"
    }
   ],
   "source": [
    "districts"
   ]
  },
  {
   "cell_type": "code",
   "execution_count": 12,
   "metadata": {},
   "outputs": [
    {
     "data": {
      "text/html": [
       "<div>\n",
       "<style scoped>\n",
       "    .dataframe tbody tr th:only-of-type {\n",
       "        vertical-align: middle;\n",
       "    }\n",
       "\n",
       "    .dataframe tbody tr th {\n",
       "        vertical-align: top;\n",
       "    }\n",
       "\n",
       "    .dataframe thead th {\n",
       "        text-align: right;\n",
       "    }\n",
       "</style>\n",
       "<table border=\"1\" class=\"dataframe\">\n",
       "  <thead>\n",
       "    <tr style=\"text-align: right;\">\n",
       "      <th></th>\n",
       "      <th>abbreviation</th>\n",
       "      <th>display_name</th>\n",
       "      <th>year</th>\n",
       "    </tr>\n",
       "    <tr>\n",
       "      <th>key</th>\n",
       "      <th></th>\n",
       "      <th></th>\n",
       "      <th></th>\n",
       "    </tr>\n",
       "  </thead>\n",
       "  <tbody>\n",
       "    <tr>\n",
       "      <th>2014pnw</th>\n",
       "      <td>pnw</td>\n",
       "      <td>Pacific Northwest</td>\n",
       "      <td>2014</td>\n",
       "    </tr>\n",
       "    <tr>\n",
       "      <th>2015pnw</th>\n",
       "      <td>pnw</td>\n",
       "      <td>Pacific Northwest</td>\n",
       "      <td>2015</td>\n",
       "    </tr>\n",
       "    <tr>\n",
       "      <th>2016pnw</th>\n",
       "      <td>pnw</td>\n",
       "      <td>Pacific Northwest</td>\n",
       "      <td>2016</td>\n",
       "    </tr>\n",
       "    <tr>\n",
       "      <th>2017pnw</th>\n",
       "      <td>pnw</td>\n",
       "      <td>Pacific Northwest</td>\n",
       "      <td>2017</td>\n",
       "    </tr>\n",
       "    <tr>\n",
       "      <th>2018pnw</th>\n",
       "      <td>pnw</td>\n",
       "      <td>Pacific Northwest</td>\n",
       "      <td>2018</td>\n",
       "    </tr>\n",
       "    <tr>\n",
       "      <th>2019pnw</th>\n",
       "      <td>pnw</td>\n",
       "      <td>Pacific Northwest</td>\n",
       "      <td>2019</td>\n",
       "    </tr>\n",
       "  </tbody>\n",
       "</table>\n",
       "</div>"
      ],
      "text/plain": [
       "        abbreviation       display_name  year\n",
       "key                                          \n",
       "2014pnw          pnw  Pacific Northwest  2014\n",
       "2015pnw          pnw  Pacific Northwest  2015\n",
       "2016pnw          pnw  Pacific Northwest  2016\n",
       "2017pnw          pnw  Pacific Northwest  2017\n",
       "2018pnw          pnw  Pacific Northwest  2018\n",
       "2019pnw          pnw  Pacific Northwest  2019"
      ]
     },
     "execution_count": 12,
     "metadata": {},
     "output_type": "execute_result"
    }
   ],
   "source": [
    "districts"
   ]
  },
  {
   "cell_type": "markdown",
   "metadata": {},
   "source": [
    "## get_district_rankings()"
   ]
  },
  {
   "cell_type": "code",
   "execution_count": 3,
   "metadata": {},
   "outputs": [],
   "source": [
    "rankings = api.get_district_rankings(sn, \"2019pnw\")"
   ]
  },
  {
   "cell_type": "code",
   "execution_count": 4,
   "metadata": {},
   "outputs": [
    {
     "data": {
      "text/html": [
       "<div>\n",
       "<style scoped>\n",
       "    .dataframe tbody tr th:only-of-type {\n",
       "        vertical-align: middle;\n",
       "    }\n",
       "\n",
       "    .dataframe tbody tr th {\n",
       "        vertical-align: top;\n",
       "    }\n",
       "\n",
       "    .dataframe thead th {\n",
       "        text-align: right;\n",
       "    }\n",
       "</style>\n",
       "<table border=\"1\" class=\"dataframe\">\n",
       "  <thead>\n",
       "    <tr style=\"text-align: right;\">\n",
       "      <th></th>\n",
       "      <th>rank</th>\n",
       "      <th>team_key</th>\n",
       "      <th>point_total</th>\n",
       "      <th>rookie_bonus</th>\n",
       "      <th>event_key</th>\n",
       "      <th>district_cmp</th>\n",
       "      <th>total</th>\n",
       "      <th>qual_points</th>\n",
       "      <th>alliance_points</th>\n",
       "      <th>elim_points</th>\n",
       "      <th>award_points</th>\n",
       "    </tr>\n",
       "  </thead>\n",
       "  <tbody>\n",
       "    <tr>\n",
       "      <th>0</th>\n",
       "      <td>1</td>\n",
       "      <td>frc2910</td>\n",
       "      <td>359</td>\n",
       "      <td>0</td>\n",
       "      <td>2019wamou</td>\n",
       "      <td>False</td>\n",
       "      <td>73</td>\n",
       "      <td>22</td>\n",
       "      <td>16</td>\n",
       "      <td>30</td>\n",
       "      <td>5</td>\n",
       "    </tr>\n",
       "    <tr>\n",
       "      <th>1</th>\n",
       "      <td>1</td>\n",
       "      <td>frc2910</td>\n",
       "      <td>359</td>\n",
       "      <td>0</td>\n",
       "      <td>2019wayak</td>\n",
       "      <td>False</td>\n",
       "      <td>73</td>\n",
       "      <td>22</td>\n",
       "      <td>16</td>\n",
       "      <td>30</td>\n",
       "      <td>5</td>\n",
       "    </tr>\n",
       "    <tr>\n",
       "      <th>2</th>\n",
       "      <td>1</td>\n",
       "      <td>frc2910</td>\n",
       "      <td>359</td>\n",
       "      <td>0</td>\n",
       "      <td>2019pncmp</td>\n",
       "      <td>True</td>\n",
       "      <td>213</td>\n",
       "      <td>60</td>\n",
       "      <td>48</td>\n",
       "      <td>90</td>\n",
       "      <td>15</td>\n",
       "    </tr>\n",
       "    <tr>\n",
       "      <th>3</th>\n",
       "      <td>2</td>\n",
       "      <td>frc2046</td>\n",
       "      <td>350</td>\n",
       "      <td>0</td>\n",
       "      <td>2019waamv</td>\n",
       "      <td>False</td>\n",
       "      <td>53</td>\n",
       "      <td>22</td>\n",
       "      <td>16</td>\n",
       "      <td>10</td>\n",
       "      <td>5</td>\n",
       "    </tr>\n",
       "    <tr>\n",
       "      <th>4</th>\n",
       "      <td>2</td>\n",
       "      <td>frc2046</td>\n",
       "      <td>350</td>\n",
       "      <td>0</td>\n",
       "      <td>2019waspo</td>\n",
       "      <td>False</td>\n",
       "      <td>78</td>\n",
       "      <td>22</td>\n",
       "      <td>16</td>\n",
       "      <td>30</td>\n",
       "      <td>10</td>\n",
       "    </tr>\n",
       "  </tbody>\n",
       "</table>\n",
       "</div>"
      ],
      "text/plain": [
       "   rank team_key  point_total  rookie_bonus  event_key  district_cmp  total  \\\n",
       "0     1  frc2910          359             0  2019wamou         False     73   \n",
       "1     1  frc2910          359             0  2019wayak         False     73   \n",
       "2     1  frc2910          359             0  2019pncmp          True    213   \n",
       "3     2  frc2046          350             0  2019waamv         False     53   \n",
       "4     2  frc2046          350             0  2019waspo         False     78   \n",
       "\n",
       "   qual_points  alliance_points  elim_points  award_points  \n",
       "0           22               16           30             5  \n",
       "1           22               16           30             5  \n",
       "2           60               48           90            15  \n",
       "3           22               16           10             5  \n",
       "4           22               16           30            10  "
      ]
     },
     "execution_count": 4,
     "metadata": {},
     "output_type": "execute_result"
    }
   ],
   "source": [
    "rankings.head(5)"
   ]
  },
  {
   "cell_type": "code",
   "execution_count": 5,
   "metadata": {},
   "outputs": [
    {
     "data": {
      "text/plain": [
       "(367, 11)"
      ]
     },
     "execution_count": 5,
     "metadata": {},
     "output_type": "execute_result"
    }
   ],
   "source": [
    "rankings.shape"
   ]
  },
  {
   "cell_type": "code",
   "execution_count": null,
   "metadata": {
    "collapsed": true
   },
   "outputs": [],
   "source": []
  }
 ],
 "metadata": {
  "kernelspec": {
   "display_name": "Python 3",
   "language": "python",
   "name": "python3"
  },
  "language_info": {
   "codemirror_mode": {
    "name": "ipython",
    "version": 3
   },
   "file_extension": ".py",
   "mimetype": "text/x-python",
   "name": "python",
   "nbconvert_exporter": "python",
   "pygments_lexer": "ipython3",
   "version": "3.7.3"
  }
 },
 "nbformat": 4,
 "nbformat_minor": 1
}
