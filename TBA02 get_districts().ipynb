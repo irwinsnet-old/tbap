{
 "cells": [
  {
   "cell_type": "markdown",
   "metadata": {},
   "source": [
    "# Imports"
   ]
  },
  {
   "cell_type": "code",
   "execution_count": 3,
   "metadata": {
    "collapsed": true
   },
   "outputs": [],
   "source": [
    "import json\n",
    "import re\n",
    "import datetime\n",
    "from collections import OrderedDict\n",
    "\n",
    "import pandas as pd\n",
    "import pandas.io.json as pj\n",
    "from IPython.core.debugger import set_trace\n",
    "\n",
    "import tbap.api as api\n",
    "import tbap.server as server"
   ]
  },
  {
   "cell_type": "code",
   "execution_count": 4,
   "metadata": {
    "collapsed": true
   },
   "outputs": [],
   "source": [
    "username = \"stacy.k.irwin@gmail.com\"\n",
    "key = \"6Sx6a2gOyNWwNNTAd9UYBOpWp7MxaNrZgO4CqConwJwwDooKQV3DbZXvnk8TBL7A\"\n",
    "sn = api.Session(username, key)\n",
    "snj = api.Session(username, key, data_format=\"json\")"
   ]
  },
  {
   "cell_type": "markdown",
   "metadata": {
    "raw_mimetype": "text/markdown"
   },
   "source": [
    "### get_districts()"
   ]
  },
  {
   "cell_type": "code",
   "execution_count": 3,
   "metadata": {
    "collapsed": true
   },
   "outputs": [],
   "source": [
    "districts = api.get_districts(sn, year=2017)"
   ]
  },
  {
   "cell_type": "code",
   "execution_count": 4,
   "metadata": {},
   "outputs": [
    {
     "data": {
      "text/html": [
       "<div>\n",
       "<style>\n",
       "    .dataframe thead tr:only-child th {\n",
       "        text-align: right;\n",
       "    }\n",
       "\n",
       "    .dataframe thead th {\n",
       "        text-align: left;\n",
       "    }\n",
       "\n",
       "    .dataframe tbody tr th {\n",
       "        vertical-align: top;\n",
       "    }\n",
       "</style>\n",
       "<table border=\"1\" class=\"dataframe\">\n",
       "  <thead>\n",
       "    <tr style=\"text-align: right;\">\n",
       "      <th></th>\n",
       "      <th>abbreviation</th>\n",
       "      <th>display_name</th>\n",
       "      <th>key</th>\n",
       "      <th>year</th>\n",
       "    </tr>\n",
       "  </thead>\n",
       "  <tbody>\n",
       "    <tr>\n",
       "      <th>0</th>\n",
       "      <td>chs</td>\n",
       "      <td>Chesapeake</td>\n",
       "      <td>2017chs</td>\n",
       "      <td>2017</td>\n",
       "    </tr>\n",
       "    <tr>\n",
       "      <th>1</th>\n",
       "      <td>fim</td>\n",
       "      <td>Michigan</td>\n",
       "      <td>2017fim</td>\n",
       "      <td>2017</td>\n",
       "    </tr>\n",
       "    <tr>\n",
       "      <th>2</th>\n",
       "      <td>in</td>\n",
       "      <td>Indiana</td>\n",
       "      <td>2017in</td>\n",
       "      <td>2017</td>\n",
       "    </tr>\n",
       "    <tr>\n",
       "      <th>3</th>\n",
       "      <td>isr</td>\n",
       "      <td>Israel</td>\n",
       "      <td>2017isr</td>\n",
       "      <td>2017</td>\n",
       "    </tr>\n",
       "    <tr>\n",
       "      <th>4</th>\n",
       "      <td>mar</td>\n",
       "      <td>Mid-Atlantic</td>\n",
       "      <td>2017mar</td>\n",
       "      <td>2017</td>\n",
       "    </tr>\n",
       "    <tr>\n",
       "      <th>5</th>\n",
       "      <td>nc</td>\n",
       "      <td>North Carolina</td>\n",
       "      <td>2017nc</td>\n",
       "      <td>2017</td>\n",
       "    </tr>\n",
       "    <tr>\n",
       "      <th>6</th>\n",
       "      <td>ne</td>\n",
       "      <td>New England</td>\n",
       "      <td>2017ne</td>\n",
       "      <td>2017</td>\n",
       "    </tr>\n",
       "    <tr>\n",
       "      <th>7</th>\n",
       "      <td>ont</td>\n",
       "      <td>Ontario</td>\n",
       "      <td>2017ont</td>\n",
       "      <td>2017</td>\n",
       "    </tr>\n",
       "    <tr>\n",
       "      <th>8</th>\n",
       "      <td>pch</td>\n",
       "      <td>Peachtree</td>\n",
       "      <td>2017pch</td>\n",
       "      <td>2017</td>\n",
       "    </tr>\n",
       "    <tr>\n",
       "      <th>9</th>\n",
       "      <td>pnw</td>\n",
       "      <td>Pacific Northwest</td>\n",
       "      <td>2017pnw</td>\n",
       "      <td>2017</td>\n",
       "    </tr>\n",
       "  </tbody>\n",
       "</table>\n",
       "</div>"
      ],
      "text/plain": [
       "  abbreviation       display_name      key  year\n",
       "0          chs         Chesapeake  2017chs  2017\n",
       "1          fim           Michigan  2017fim  2017\n",
       "2           in            Indiana   2017in  2017\n",
       "3          isr             Israel  2017isr  2017\n",
       "4          mar       Mid-Atlantic  2017mar  2017\n",
       "5           nc     North Carolina   2017nc  2017\n",
       "6           ne        New England   2017ne  2017\n",
       "7          ont            Ontario  2017ont  2017\n",
       "8          pch          Peachtree  2017pch  2017\n",
       "9          pnw  Pacific Northwest  2017pnw  2017"
      ]
     },
     "execution_count": 4,
     "metadata": {},
     "output_type": "execute_result"
    }
   ],
   "source": [
    "districts"
   ]
  },
  {
   "cell_type": "code",
   "execution_count": 5,
   "metadata": {
    "collapsed": true
   },
   "outputs": [],
   "source": [
    "districts = api.get_districts(sn, team=\"frc1318\")"
   ]
  },
  {
   "cell_type": "code",
   "execution_count": 6,
   "metadata": {},
   "outputs": [
    {
     "data": {
      "text/html": [
       "<div>\n",
       "<style>\n",
       "    .dataframe thead tr:only-child th {\n",
       "        text-align: right;\n",
       "    }\n",
       "\n",
       "    .dataframe thead th {\n",
       "        text-align: left;\n",
       "    }\n",
       "\n",
       "    .dataframe tbody tr th {\n",
       "        vertical-align: top;\n",
       "    }\n",
       "</style>\n",
       "<table border=\"1\" class=\"dataframe\">\n",
       "  <thead>\n",
       "    <tr style=\"text-align: right;\">\n",
       "      <th></th>\n",
       "      <th>abbreviation</th>\n",
       "      <th>display_name</th>\n",
       "      <th>key</th>\n",
       "      <th>year</th>\n",
       "    </tr>\n",
       "  </thead>\n",
       "  <tbody>\n",
       "    <tr>\n",
       "      <th>0</th>\n",
       "      <td>pnw</td>\n",
       "      <td>Pacific Northwest</td>\n",
       "      <td>2014pnw</td>\n",
       "      <td>2014</td>\n",
       "    </tr>\n",
       "    <tr>\n",
       "      <th>1</th>\n",
       "      <td>pnw</td>\n",
       "      <td>Pacific Northwest</td>\n",
       "      <td>2015pnw</td>\n",
       "      <td>2015</td>\n",
       "    </tr>\n",
       "    <tr>\n",
       "      <th>2</th>\n",
       "      <td>pnw</td>\n",
       "      <td>Pacific Northwest</td>\n",
       "      <td>2016pnw</td>\n",
       "      <td>2016</td>\n",
       "    </tr>\n",
       "    <tr>\n",
       "      <th>3</th>\n",
       "      <td>pnw</td>\n",
       "      <td>Pacific Northwest</td>\n",
       "      <td>2017pnw</td>\n",
       "      <td>2017</td>\n",
       "    </tr>\n",
       "    <tr>\n",
       "      <th>4</th>\n",
       "      <td>pnw</td>\n",
       "      <td>Pacific Northwest</td>\n",
       "      <td>2018pnw</td>\n",
       "      <td>2018</td>\n",
       "    </tr>\n",
       "  </tbody>\n",
       "</table>\n",
       "</div>"
      ],
      "text/plain": [
       "  abbreviation       display_name      key  year\n",
       "0          pnw  Pacific Northwest  2014pnw  2014\n",
       "1          pnw  Pacific Northwest  2015pnw  2015\n",
       "2          pnw  Pacific Northwest  2016pnw  2016\n",
       "3          pnw  Pacific Northwest  2017pnw  2017\n",
       "4          pnw  Pacific Northwest  2018pnw  2018"
      ]
     },
     "execution_count": 6,
     "metadata": {},
     "output_type": "execute_result"
    }
   ],
   "source": [
    "districts"
   ]
  },
  {
   "cell_type": "code",
   "execution_count": 7,
   "metadata": {
    "collapsed": true
   },
   "outputs": [],
   "source": [
    "lm = districts.attr[\"Last-Modified\"]"
   ]
  },
  {
   "cell_type": "code",
   "execution_count": 8,
   "metadata": {
    "collapsed": true
   },
   "outputs": [],
   "source": [
    "districts = api.get_districts(sn, team=\"frc1318\", mod_since=lm)"
   ]
  },
  {
   "cell_type": "code",
   "execution_count": 12,
   "metadata": {},
   "outputs": [
    {
     "data": {
      "text/plain": [
       "{'Access-Control-Allow-Origin': '*',\n",
       " 'CF-Cache-Status': 'HIT',\n",
       " 'CF-RAY': '3c456cedede88ce1-PDX',\n",
       " 'Cache-Control': 'public, max-age=61',\n",
       " 'Connection': 'close',\n",
       " 'Date': 'Mon, 27 Nov 2017 13:27:32 GMT',\n",
       " 'ETag': 'W/\"f13331c9f7795df8263a2a41af610658\"',\n",
       " 'If-Modified-Since': 'Sun, 12 Nov 2017 14:14:56 GMT',\n",
       " 'Last-Modified': 'Sun, 12 Nov 2017 14:14:56 GMT',\n",
       " 'Pragma': 'Public',\n",
       " 'Server': 'cloudflare-nginx',\n",
       " 'Set-Cookie': '__cfduid=d3e9e71767666e84eac519c094711e17d1511789252; expires=Tue, 27-Nov-18 13:27:32 GMT; path=/; domain=.thebluealliance.com; HttpOnly',\n",
       " 'Vary': 'Accept-Encoding',\n",
       " 'X-Cloud-Trace-Context': 'b5a81abe5fec8987a16b4ef79508970e',\n",
       " 'X-TBA-Version': '3',\n",
       " 'args': ['team', 'frc1318', 'districts'],\n",
       " 'code': 304,\n",
       " 'url': 'https://www.thebluealliance.com/api/v3/team/frc1318/districts'}"
      ]
     },
     "execution_count": 12,
     "metadata": {},
     "output_type": "execute_result"
    }
   ],
   "source": [
    "districts"
   ]
  },
  {
   "cell_type": "code",
   "execution_count": 14,
   "metadata": {},
   "outputs": [
    {
     "data": {
      "text/plain": [
       "304"
      ]
     },
     "execution_count": 14,
     "metadata": {},
     "output_type": "execute_result"
    }
   ],
   "source": [
    "districts[\"code\"]"
   ]
  },
  {
   "cell_type": "code",
   "execution_count": 15,
   "metadata": {},
   "outputs": [
    {
     "data": {
      "text/plain": [
       "'Sun, 12 Nov 2017 14:14:56 GMT'"
      ]
     },
     "execution_count": 15,
     "metadata": {},
     "output_type": "execute_result"
    }
   ],
   "source": [
    "lm"
   ]
  },
  {
   "cell_type": "code",
   "execution_count": 16,
   "metadata": {
    "collapsed": true
   },
   "outputs": [],
   "source": [
    "lm1 = \"Sun, 12 Nov 2017 14:14:55 GMT\""
   ]
  },
  {
   "cell_type": "code",
   "execution_count": 17,
   "metadata": {
    "collapsed": true
   },
   "outputs": [],
   "source": [
    "districts = api.get_districts(sn, team=\"frc1318\", mod_since=lm1)"
   ]
  },
  {
   "cell_type": "code",
   "execution_count": 18,
   "metadata": {},
   "outputs": [
    {
     "data": {
      "text/html": [
       "<div>\n",
       "<style>\n",
       "    .dataframe thead tr:only-child th {\n",
       "        text-align: right;\n",
       "    }\n",
       "\n",
       "    .dataframe thead th {\n",
       "        text-align: left;\n",
       "    }\n",
       "\n",
       "    .dataframe tbody tr th {\n",
       "        vertical-align: top;\n",
       "    }\n",
       "</style>\n",
       "<table border=\"1\" class=\"dataframe\">\n",
       "  <thead>\n",
       "    <tr style=\"text-align: right;\">\n",
       "      <th></th>\n",
       "      <th>abbreviation</th>\n",
       "      <th>display_name</th>\n",
       "      <th>key</th>\n",
       "      <th>year</th>\n",
       "    </tr>\n",
       "  </thead>\n",
       "  <tbody>\n",
       "    <tr>\n",
       "      <th>0</th>\n",
       "      <td>pnw</td>\n",
       "      <td>Pacific Northwest</td>\n",
       "      <td>2014pnw</td>\n",
       "      <td>2014</td>\n",
       "    </tr>\n",
       "    <tr>\n",
       "      <th>1</th>\n",
       "      <td>pnw</td>\n",
       "      <td>Pacific Northwest</td>\n",
       "      <td>2015pnw</td>\n",
       "      <td>2015</td>\n",
       "    </tr>\n",
       "    <tr>\n",
       "      <th>2</th>\n",
       "      <td>pnw</td>\n",
       "      <td>Pacific Northwest</td>\n",
       "      <td>2016pnw</td>\n",
       "      <td>2016</td>\n",
       "    </tr>\n",
       "    <tr>\n",
       "      <th>3</th>\n",
       "      <td>pnw</td>\n",
       "      <td>Pacific Northwest</td>\n",
       "      <td>2017pnw</td>\n",
       "      <td>2017</td>\n",
       "    </tr>\n",
       "    <tr>\n",
       "      <th>4</th>\n",
       "      <td>pnw</td>\n",
       "      <td>Pacific Northwest</td>\n",
       "      <td>2018pnw</td>\n",
       "      <td>2018</td>\n",
       "    </tr>\n",
       "  </tbody>\n",
       "</table>\n",
       "</div>"
      ],
      "text/plain": [
       "  abbreviation       display_name      key  year\n",
       "0          pnw  Pacific Northwest  2014pnw  2014\n",
       "1          pnw  Pacific Northwest  2015pnw  2015\n",
       "2          pnw  Pacific Northwest  2016pnw  2016\n",
       "3          pnw  Pacific Northwest  2017pnw  2017\n",
       "4          pnw  Pacific Northwest  2018pnw  2018"
      ]
     },
     "execution_count": 18,
     "metadata": {},
     "output_type": "execute_result"
    }
   ],
   "source": [
    "districts"
   ]
  },
  {
   "cell_type": "markdown",
   "metadata": {},
   "source": [
    "## get_district_rankings()"
   ]
  },
  {
   "cell_type": "code",
   "execution_count": 5,
   "metadata": {
    "collapsed": true
   },
   "outputs": [],
   "source": [
    "rankings = api.get_district_rankings(sn, \"2017pnw\")"
   ]
  },
  {
   "cell_type": "code",
   "execution_count": 6,
   "metadata": {},
   "outputs": [
    {
     "data": {
      "text/html": [
       "<div>\n",
       "<style>\n",
       "    .dataframe thead tr:only-child th {\n",
       "        text-align: right;\n",
       "    }\n",
       "\n",
       "    .dataframe thead th {\n",
       "        text-align: left;\n",
       "    }\n",
       "\n",
       "    .dataframe tbody tr th {\n",
       "        vertical-align: top;\n",
       "    }\n",
       "</style>\n",
       "<table border=\"1\" class=\"dataframe\">\n",
       "  <thead>\n",
       "    <tr style=\"text-align: right;\">\n",
       "      <th></th>\n",
       "      <th>rank</th>\n",
       "      <th>team_key</th>\n",
       "      <th>point_total</th>\n",
       "      <th>rookie_bonus</th>\n",
       "      <th>event_key</th>\n",
       "      <th>district_cmp</th>\n",
       "      <th>total</th>\n",
       "      <th>qual_points</th>\n",
       "      <th>alliance_points</th>\n",
       "      <th>elim_points</th>\n",
       "      <th>award_points</th>\n",
       "    </tr>\n",
       "  </thead>\n",
       "  <tbody>\n",
       "    <tr>\n",
       "      <th>0</th>\n",
       "      <td>1</td>\n",
       "      <td>frc3238</td>\n",
       "      <td>331</td>\n",
       "      <td>0</td>\n",
       "      <td>2017waspo</td>\n",
       "      <td>False</td>\n",
       "      <td>65</td>\n",
       "      <td>19</td>\n",
       "      <td>16</td>\n",
       "      <td>20</td>\n",
       "      <td>10</td>\n",
       "    </tr>\n",
       "    <tr>\n",
       "      <th>1</th>\n",
       "      <td>1</td>\n",
       "      <td>frc3238</td>\n",
       "      <td>331</td>\n",
       "      <td>0</td>\n",
       "      <td>2017wamou</td>\n",
       "      <td>False</td>\n",
       "      <td>77</td>\n",
       "      <td>21</td>\n",
       "      <td>16</td>\n",
       "      <td>30</td>\n",
       "      <td>10</td>\n",
       "    </tr>\n",
       "    <tr>\n",
       "      <th>2</th>\n",
       "      <td>1</td>\n",
       "      <td>frc3238</td>\n",
       "      <td>331</td>\n",
       "      <td>0</td>\n",
       "      <td>2017pncmp</td>\n",
       "      <td>True</td>\n",
       "      <td>189</td>\n",
       "      <td>66</td>\n",
       "      <td>48</td>\n",
       "      <td>60</td>\n",
       "      <td>15</td>\n",
       "    </tr>\n",
       "    <tr>\n",
       "      <th>3</th>\n",
       "      <td>2</td>\n",
       "      <td>frc2471</td>\n",
       "      <td>329</td>\n",
       "      <td>0</td>\n",
       "      <td>2017orwil</td>\n",
       "      <td>False</td>\n",
       "      <td>47</td>\n",
       "      <td>19</td>\n",
       "      <td>13</td>\n",
       "      <td>10</td>\n",
       "      <td>5</td>\n",
       "    </tr>\n",
       "    <tr>\n",
       "      <th>4</th>\n",
       "      <td>2</td>\n",
       "      <td>frc2471</td>\n",
       "      <td>329</td>\n",
       "      <td>0</td>\n",
       "      <td>2017orlak</td>\n",
       "      <td>False</td>\n",
       "      <td>75</td>\n",
       "      <td>17</td>\n",
       "      <td>13</td>\n",
       "      <td>30</td>\n",
       "      <td>15</td>\n",
       "    </tr>\n",
       "  </tbody>\n",
       "</table>\n",
       "</div>"
      ],
      "text/plain": [
       "   rank team_key  point_total  rookie_bonus  event_key  district_cmp  total  \\\n",
       "0     1  frc3238          331             0  2017waspo         False     65   \n",
       "1     1  frc3238          331             0  2017wamou         False     77   \n",
       "2     1  frc3238          331             0  2017pncmp          True    189   \n",
       "3     2  frc2471          329             0  2017orwil         False     47   \n",
       "4     2  frc2471          329             0  2017orlak         False     75   \n",
       "\n",
       "   qual_points  alliance_points  elim_points  award_points  \n",
       "0           19               16           20            10  \n",
       "1           21               16           30            10  \n",
       "2           66               48           60            15  \n",
       "3           19               13           10             5  \n",
       "4           17               13           30            15  "
      ]
     },
     "execution_count": 6,
     "metadata": {},
     "output_type": "execute_result"
    }
   ],
   "source": [
    "rankings.head(5)"
   ]
  },
  {
   "cell_type": "code",
   "execution_count": 7,
   "metadata": {},
   "outputs": [
    {
     "data": {
      "text/plain": [
       "(376, 11)"
      ]
     },
     "execution_count": 7,
     "metadata": {},
     "output_type": "execute_result"
    }
   ],
   "source": [
    "rankings.shape"
   ]
  },
  {
   "cell_type": "code",
   "execution_count": null,
   "metadata": {
    "collapsed": true
   },
   "outputs": [],
   "source": []
  }
 ],
 "metadata": {
  "kernelspec": {
   "display_name": "Python 3",
   "language": "python",
   "name": "python3"
  },
  "language_info": {
   "codemirror_mode": {
    "name": "ipython",
    "version": 3
   },
   "file_extension": ".py",
   "mimetype": "text/x-python",
   "name": "python",
   "nbconvert_exporter": "python",
   "pygments_lexer": "ipython3",
   "version": "3.6.2"
  }
 },
 "nbformat": 4,
 "nbformat_minor": 1
}
